{
  "nbformat": 4,
  "nbformat_minor": 0,
  "metadata": {
    "kernelspec": {
      "display_name": "Python 3",
      "language": "python",
      "name": "python3"
    },
    "language_info": {
      "codemirror_mode": {
        "name": "ipython",
        "version": 3
      },
      "file_extension": ".py",
      "mimetype": "text/x-python",
      "name": "python",
      "nbconvert_exporter": "python",
      "pygments_lexer": "ipython3",
      "version": "3.8.5"
    },
    "colab": {
      "name": "hw5.ipynb",
      "provenance": [],
      "collapsed_sections": [],
      "include_colab_link": true
    }
  },
  "cells": [
    {
      "cell_type": "markdown",
      "metadata": {
        "id": "view-in-github",
        "colab_type": "text"
      },
      "source": [
        "<a href=\"https://colab.research.google.com/github/Jpn3/Jpn3/blob/main/hw5.ipynb\" target=\"_parent\"><img src=\"https://colab.research.google.com/assets/colab-badge.svg\" alt=\"Open In Colab\"/></a>"
      ]
    },
    {
      "cell_type": "markdown",
      "metadata": {
        "id": "lp7tRZfFOZg6"
      },
      "source": [
        "# NOTE\n",
        "\n",
        "- Make a copy of this template before you start editing, and exported the file as a ipynb where you are done.\n",
        "\n",
        "- Before you turn this problem in, make sure everything runs as expected. First, **restart the kernel** (in the menubar, select Runtime$\\rightarrow$Factory reset runtime) and then **run all cells** (in the menubar, select Runtime$\\rightarrow$Run all).\n",
        "\n",
        "- Make sure you fill in any place that says `YOUR CODE HERE` or \"YOUR ANSWER HERE\". Fill out your name below in the `NAME` variable, leave the `COLLABORATORS` variable empty."
      ]
    },
    {
      "cell_type": "code",
      "metadata": {
        "id": "t4fnV9HOOZg8"
      },
      "source": [
        "NAME = \"Joseph Nugent\"\n",
        "COLLABORATORS = \"\""
      ],
      "execution_count": 2,
      "outputs": []
    },
    {
      "cell_type": "markdown",
      "metadata": {
        "id": "GuYaB4NSOZhA"
      },
      "source": [
        "---"
      ]
    },
    {
      "cell_type": "markdown",
      "metadata": {
        "deletable": false,
        "editable": false,
        "nbgrader": {
          "cell_type": "markdown",
          "checksum": "a06f5498fdecd4fedb27baf7cbd7326f",
          "grade": false,
          "grade_id": "cell-cee60504bb4bbba5",
          "locked": true,
          "schema_version": 3,
          "solution": false
        },
        "id": "Hn3isQr-IDuN"
      },
      "source": [
        "# Homework 5\n",
        "\n",
        "## Copy number callers\n",
        "\n",
        "\n",
        "\n",
        "In this homework assignment we will develop a copy number caller based on a Hidden Markov Model. In addition, we will implement a hierarchical clustering algorithm. The data that we consider is from a previously published [breast tumor](http://dx.doi.org/10.1038/nature09807), from which 100 single cells have been sequenced. In this homework assignment we restrict our attention to a subset of 25 cells.\n",
        "\n",
        "_Instructions:_ There are four questions, worth a total of 100 points. In addition, there are two bonus questions (Q2e and Q4c), each worth 5 points. Insert your answer after each question in the designated box. Replace comments with code.\n"
      ]
    },
    {
      "cell_type": "code",
      "metadata": {
        "deletable": false,
        "editable": false,
        "nbgrader": {
          "cell_type": "code",
          "checksum": "8eeeb32f81b7c41be1f1a7b45eab185d",
          "grade": false,
          "grade_id": "cell-694c9eac9bfefa62",
          "locked": true,
          "schema_version": 3,
          "solution": false,
          "task": false
        },
        "id": "AF8MKqetIDuO",
        "colab": {
          "base_uri": "https://localhost:8080/"
        },
        "outputId": "e947a776-90d8-4e9e-b457-43ef1186a60e"
      },
      "source": [
        "# Install library and download data\n",
        "\n",
        "! pip install nose\n",
        "! pip install numpy\n",
        "! pip install pandas\n",
        "! pip install matplotlib\n",
        "\n",
        "! wget -c 'https://drive.google.com/uc?export=download&id=12pgHOpJ8sRzF_rcnGE-xjAx3Eacu5W97' -O data.zip\n",
        "! unzip -o data.zip"
      ],
      "execution_count": 3,
      "outputs": [
        {
          "output_type": "stream",
          "name": "stdout",
          "text": [
            "Collecting nose\n",
            "  Downloading nose-1.3.7-py3-none-any.whl (154 kB)\n",
            "\u001b[?25l\r\u001b[K     |██▏                             | 10 kB 22.6 MB/s eta 0:00:01\r\u001b[K     |████▎                           | 20 kB 28.2 MB/s eta 0:00:01\r\u001b[K     |██████▍                         | 30 kB 32.5 MB/s eta 0:00:01\r\u001b[K     |████████▌                       | 40 kB 35.5 MB/s eta 0:00:01\r\u001b[K     |██████████▋                     | 51 kB 34.8 MB/s eta 0:00:01\r\u001b[K     |████████████▊                   | 61 kB 35.6 MB/s eta 0:00:01\r\u001b[K     |██████████████▉                 | 71 kB 31.7 MB/s eta 0:00:01\r\u001b[K     |█████████████████               | 81 kB 29.6 MB/s eta 0:00:01\r\u001b[K     |███████████████████             | 92 kB 30.1 MB/s eta 0:00:01\r\u001b[K     |█████████████████████▏          | 102 kB 32.0 MB/s eta 0:00:01\r\u001b[K     |███████████████████████▎        | 112 kB 32.0 MB/s eta 0:00:01\r\u001b[K     |█████████████████████████▍      | 122 kB 32.0 MB/s eta 0:00:01\r\u001b[K     |███████████████████████████▌    | 133 kB 32.0 MB/s eta 0:00:01\r\u001b[K     |█████████████████████████████▋  | 143 kB 32.0 MB/s eta 0:00:01\r\u001b[K     |███████████████████████████████▊| 153 kB 32.0 MB/s eta 0:00:01\r\u001b[K     |████████████████████████████████| 154 kB 32.0 MB/s \n",
            "\u001b[?25hInstalling collected packages: nose\n",
            "Successfully installed nose-1.3.7\n",
            "Requirement already satisfied: numpy in /usr/local/lib/python3.7/dist-packages (1.19.5)\n",
            "Requirement already satisfied: pandas in /usr/local/lib/python3.7/dist-packages (1.1.5)\n",
            "Requirement already satisfied: python-dateutil>=2.7.3 in /usr/local/lib/python3.7/dist-packages (from pandas) (2.8.2)\n",
            "Requirement already satisfied: numpy>=1.15.4 in /usr/local/lib/python3.7/dist-packages (from pandas) (1.19.5)\n",
            "Requirement already satisfied: pytz>=2017.2 in /usr/local/lib/python3.7/dist-packages (from pandas) (2018.9)\n",
            "Requirement already satisfied: six>=1.5 in /usr/local/lib/python3.7/dist-packages (from python-dateutil>=2.7.3->pandas) (1.15.0)\n",
            "Requirement already satisfied: matplotlib in /usr/local/lib/python3.7/dist-packages (3.2.2)\n",
            "Requirement already satisfied: kiwisolver>=1.0.1 in /usr/local/lib/python3.7/dist-packages (from matplotlib) (1.3.2)\n",
            "Requirement already satisfied: pyparsing!=2.0.4,!=2.1.2,!=2.1.6,>=2.0.1 in /usr/local/lib/python3.7/dist-packages (from matplotlib) (3.0.6)\n",
            "Requirement already satisfied: numpy>=1.11 in /usr/local/lib/python3.7/dist-packages (from matplotlib) (1.19.5)\n",
            "Requirement already satisfied: cycler>=0.10 in /usr/local/lib/python3.7/dist-packages (from matplotlib) (0.11.0)\n",
            "Requirement already satisfied: python-dateutil>=2.1 in /usr/local/lib/python3.7/dist-packages (from matplotlib) (2.8.2)\n",
            "Requirement already satisfied: six>=1.5 in /usr/local/lib/python3.7/dist-packages (from python-dateutil>=2.1->matplotlib) (1.15.0)\n",
            "--2021-12-03 16:22:51--  https://drive.google.com/uc?export=download&id=12pgHOpJ8sRzF_rcnGE-xjAx3Eacu5W97\n",
            "Resolving drive.google.com (drive.google.com)... 142.250.73.238, 2607:f8b0:4004:837::200e\n",
            "Connecting to drive.google.com (drive.google.com)|142.250.73.238|:443... connected.\n",
            "HTTP request sent, awaiting response... 302 Moved Temporarily\n",
            "Location: https://doc-0s-74-docs.googleusercontent.com/docs/securesc/ha0ro937gcuc7l7deffksulhg5h7mbp1/suuergpoamka2h6oubi1hs1lt230o494/1638548550000/07609132369007408380/*/12pgHOpJ8sRzF_rcnGE-xjAx3Eacu5W97?e=download [following]\n",
            "Warning: wildcards not supported in HTTP.\n",
            "--2021-12-03 16:22:52--  https://doc-0s-74-docs.googleusercontent.com/docs/securesc/ha0ro937gcuc7l7deffksulhg5h7mbp1/suuergpoamka2h6oubi1hs1lt230o494/1638548550000/07609132369007408380/*/12pgHOpJ8sRzF_rcnGE-xjAx3Eacu5W97?e=download\n",
            "Resolving doc-0s-74-docs.googleusercontent.com (doc-0s-74-docs.googleusercontent.com)... 172.217.13.225, 2607:f8b0:4004:809::2001\n",
            "Connecting to doc-0s-74-docs.googleusercontent.com (doc-0s-74-docs.googleusercontent.com)|172.217.13.225|:443... connected.\n",
            "HTTP request sent, awaiting response... 200 OK\n",
            "Length: 896061 (875K) [application/x-zip-compressed]\n",
            "Saving to: ‘data.zip’\n",
            "\n",
            "data.zip            100%[===================>] 875.06K  --.-KB/s    in 0.05s   \n",
            "\n",
            "2021-12-03 16:22:53 (18.6 MB/s) - ‘data.zip’ saved [896061/896061]\n",
            "\n",
            "Archive:  data.zip\n",
            "  inflating: data.tsv                \n",
            "  inflating: data_filtered_test.csv  \n"
          ]
        }
      ]
    },
    {
      "cell_type": "code",
      "metadata": {
        "deletable": false,
        "editable": false,
        "nbgrader": {
          "cell_type": "code",
          "checksum": "e5a0478678238402e849fad20b19d29a",
          "grade": false,
          "grade_id": "cell-06d1361cf6e24ddc",
          "locked": true,
          "schema_version": 3,
          "solution": false,
          "task": false
        },
        "id": "7SuHJbqkIDuR"
      },
      "source": [
        "import copy\n",
        "import sys\n",
        "\n",
        "import nose.tools as nt\n",
        "import numpy as np\n",
        "import pandas as pd\n",
        "import matplotlib.pyplot as plt\n",
        "\n",
        "from scipy.special import logsumexp\n",
        "from scipy.stats import norm\n",
        "from scipy.cluster import hierarchy"
      ],
      "execution_count": 4,
      "outputs": []
    },
    {
      "cell_type": "markdown",
      "metadata": {
        "deletable": false,
        "editable": false,
        "nbgrader": {
          "cell_type": "markdown",
          "checksum": "ec0494cf7684df34f232909854c28802",
          "grade": false,
          "grade_id": "cell-76ff6a4931c7122e",
          "locked": true,
          "schema_version": 3,
          "solution": false
        },
        "id": "hMq2hkGyIDuT"
      },
      "source": [
        "## Question 1: Data preparation [20 points]\n",
        "\n",
        "We start by parsing the data from `data.tsv` using pandas."
      ]
    },
    {
      "cell_type": "code",
      "metadata": {
        "deletable": false,
        "editable": false,
        "nbgrader": {
          "cell_type": "code",
          "checksum": "fa8757f1392488185482e2595f278fce",
          "grade": false,
          "grade_id": "cell-7c1c992b825b7776",
          "locked": true,
          "schema_version": 3,
          "solution": false,
          "task": false
        },
        "id": "T8W7ltDiIDuU",
        "colab": {
          "base_uri": "https://localhost:8080/",
          "height": 258
        },
        "outputId": "7bb0e9e0-04fc-402b-ab0b-6955570699a3"
      },
      "source": [
        "df = pd.read_csv(\"data.tsv\", sep=\"\\t\", index_col=0)\n",
        "df.head()"
      ],
      "execution_count": 5,
      "outputs": [
        {
          "output_type": "execute_result",
          "data": {
            "text/html": [
              "<div>\n",
              "<style scoped>\n",
              "    .dataframe tbody tr th:only-of-type {\n",
              "        vertical-align: middle;\n",
              "    }\n",
              "\n",
              "    .dataframe tbody tr th {\n",
              "        vertical-align: top;\n",
              "    }\n",
              "\n",
              "    .dataframe thead th {\n",
              "        text-align: right;\n",
              "    }\n",
              "</style>\n",
              "<table border=\"1\" class=\"dataframe\">\n",
              "  <thead>\n",
              "    <tr style=\"text-align: right;\">\n",
              "      <th></th>\n",
              "      <th>CHR</th>\n",
              "      <th>START</th>\n",
              "      <th>END</th>\n",
              "      <th>SRR089377</th>\n",
              "      <th>SRR054598</th>\n",
              "      <th>SRR053605</th>\n",
              "      <th>SRR054594</th>\n",
              "      <th>SRR089397</th>\n",
              "      <th>SRR054614</th>\n",
              "      <th>SRR089402</th>\n",
              "      <th>SRR053676</th>\n",
              "      <th>SRR053633</th>\n",
              "      <th>SRR053617</th>\n",
              "      <th>SRR054608</th>\n",
              "      <th>SRR053608</th>\n",
              "      <th>SRR054602</th>\n",
              "      <th>SRR089401</th>\n",
              "      <th>SRR053668</th>\n",
              "      <th>SRR054606</th>\n",
              "      <th>SRR054613</th>\n",
              "      <th>SRR053631</th>\n",
              "      <th>SRR054575</th>\n",
              "      <th>SRR053679</th>\n",
              "      <th>SRR054604</th>\n",
              "      <th>SRR053611</th>\n",
              "      <th>SRR053607</th>\n",
              "      <th>SRR053602</th>\n",
              "      <th>SRR054610</th>\n",
              "    </tr>\n",
              "    <tr>\n",
              "      <th>bin</th>\n",
              "      <th></th>\n",
              "      <th></th>\n",
              "      <th></th>\n",
              "      <th></th>\n",
              "      <th></th>\n",
              "      <th></th>\n",
              "      <th></th>\n",
              "      <th></th>\n",
              "      <th></th>\n",
              "      <th></th>\n",
              "      <th></th>\n",
              "      <th></th>\n",
              "      <th></th>\n",
              "      <th></th>\n",
              "      <th></th>\n",
              "      <th></th>\n",
              "      <th></th>\n",
              "      <th></th>\n",
              "      <th></th>\n",
              "      <th></th>\n",
              "      <th></th>\n",
              "      <th></th>\n",
              "      <th></th>\n",
              "      <th></th>\n",
              "      <th></th>\n",
              "      <th></th>\n",
              "      <th></th>\n",
              "      <th></th>\n",
              "    </tr>\n",
              "  </thead>\n",
              "  <tbody>\n",
              "    <tr>\n",
              "      <th>0</th>\n",
              "      <td>chr1</td>\n",
              "      <td>1</td>\n",
              "      <td>1246396</td>\n",
              "      <td>2116</td>\n",
              "      <td>298</td>\n",
              "      <td>573</td>\n",
              "      <td>157</td>\n",
              "      <td>3146</td>\n",
              "      <td>1495</td>\n",
              "      <td>4071</td>\n",
              "      <td>815</td>\n",
              "      <td>2492</td>\n",
              "      <td>2484</td>\n",
              "      <td>1387</td>\n",
              "      <td>1299</td>\n",
              "      <td>1470</td>\n",
              "      <td>2525</td>\n",
              "      <td>824</td>\n",
              "      <td>854</td>\n",
              "      <td>1583</td>\n",
              "      <td>1106</td>\n",
              "      <td>1847</td>\n",
              "      <td>795</td>\n",
              "      <td>562</td>\n",
              "      <td>1211</td>\n",
              "      <td>636</td>\n",
              "      <td>751</td>\n",
              "      <td>1520</td>\n",
              "    </tr>\n",
              "    <tr>\n",
              "      <th>1</th>\n",
              "      <td>chr1</td>\n",
              "      <td>1246395</td>\n",
              "      <td>1833664</td>\n",
              "      <td>1940</td>\n",
              "      <td>264</td>\n",
              "      <td>660</td>\n",
              "      <td>204</td>\n",
              "      <td>1643</td>\n",
              "      <td>1207</td>\n",
              "      <td>3809</td>\n",
              "      <td>736</td>\n",
              "      <td>1608</td>\n",
              "      <td>983</td>\n",
              "      <td>841</td>\n",
              "      <td>623</td>\n",
              "      <td>565</td>\n",
              "      <td>2876</td>\n",
              "      <td>806</td>\n",
              "      <td>651</td>\n",
              "      <td>848</td>\n",
              "      <td>1252</td>\n",
              "      <td>2024</td>\n",
              "      <td>830</td>\n",
              "      <td>584</td>\n",
              "      <td>836</td>\n",
              "      <td>475</td>\n",
              "      <td>673</td>\n",
              "      <td>1185</td>\n",
              "    </tr>\n",
              "    <tr>\n",
              "      <th>2</th>\n",
              "      <td>chr1</td>\n",
              "      <td>1833663</td>\n",
              "      <td>2345598</td>\n",
              "      <td>1767</td>\n",
              "      <td>261</td>\n",
              "      <td>870</td>\n",
              "      <td>237</td>\n",
              "      <td>1655</td>\n",
              "      <td>1621</td>\n",
              "      <td>5418</td>\n",
              "      <td>966</td>\n",
              "      <td>1929</td>\n",
              "      <td>1077</td>\n",
              "      <td>1029</td>\n",
              "      <td>779</td>\n",
              "      <td>898</td>\n",
              "      <td>3505</td>\n",
              "      <td>1109</td>\n",
              "      <td>707</td>\n",
              "      <td>1372</td>\n",
              "      <td>1342</td>\n",
              "      <td>2531</td>\n",
              "      <td>1153</td>\n",
              "      <td>874</td>\n",
              "      <td>936</td>\n",
              "      <td>630</td>\n",
              "      <td>818</td>\n",
              "      <td>1366</td>\n",
              "    </tr>\n",
              "    <tr>\n",
              "      <th>3</th>\n",
              "      <td>chr1</td>\n",
              "      <td>2345597</td>\n",
              "      <td>2946628</td>\n",
              "      <td>2246</td>\n",
              "      <td>446</td>\n",
              "      <td>854</td>\n",
              "      <td>265</td>\n",
              "      <td>1564</td>\n",
              "      <td>1838</td>\n",
              "      <td>5625</td>\n",
              "      <td>1121</td>\n",
              "      <td>2429</td>\n",
              "      <td>1677</td>\n",
              "      <td>1365</td>\n",
              "      <td>769</td>\n",
              "      <td>973</td>\n",
              "      <td>3188</td>\n",
              "      <td>1279</td>\n",
              "      <td>1227</td>\n",
              "      <td>1172</td>\n",
              "      <td>1578</td>\n",
              "      <td>2909</td>\n",
              "      <td>1373</td>\n",
              "      <td>884</td>\n",
              "      <td>1184</td>\n",
              "      <td>604</td>\n",
              "      <td>973</td>\n",
              "      <td>1701</td>\n",
              "    </tr>\n",
              "    <tr>\n",
              "      <th>4</th>\n",
              "      <td>chr1</td>\n",
              "      <td>2946627</td>\n",
              "      <td>3452945</td>\n",
              "      <td>2189</td>\n",
              "      <td>363</td>\n",
              "      <td>883</td>\n",
              "      <td>217</td>\n",
              "      <td>2081</td>\n",
              "      <td>1173</td>\n",
              "      <td>4845</td>\n",
              "      <td>1053</td>\n",
              "      <td>1790</td>\n",
              "      <td>1170</td>\n",
              "      <td>1192</td>\n",
              "      <td>700</td>\n",
              "      <td>854</td>\n",
              "      <td>3206</td>\n",
              "      <td>963</td>\n",
              "      <td>687</td>\n",
              "      <td>1371</td>\n",
              "      <td>1562</td>\n",
              "      <td>3235</td>\n",
              "      <td>1053</td>\n",
              "      <td>854</td>\n",
              "      <td>785</td>\n",
              "      <td>649</td>\n",
              "      <td>784</td>\n",
              "      <td>1212</td>\n",
              "    </tr>\n",
              "  </tbody>\n",
              "</table>\n",
              "</div>"
            ],
            "text/plain": [
              "      CHR    START      END  ...  SRR053607  SRR053602  SRR054610\n",
              "bin                          ...                                 \n",
              "0    chr1        1  1246396  ...        636        751       1520\n",
              "1    chr1  1246395  1833664  ...        475        673       1185\n",
              "2    chr1  1833663  2345598  ...        630        818       1366\n",
              "3    chr1  2345597  2946628  ...        604        973       1701\n",
              "4    chr1  2946627  3452945  ...        649        784       1212\n",
              "\n",
              "[5 rows x 28 columns]"
            ]
          },
          "metadata": {},
          "execution_count": 5
        }
      ]
    },
    {
      "cell_type": "markdown",
      "metadata": {
        "deletable": false,
        "editable": false,
        "nbgrader": {
          "cell_type": "markdown",
          "checksum": "1896cd54cb9d9859e263398807e1624c",
          "grade": false,
          "grade_id": "cell-5be521fe4c0f4ffd",
          "locked": true,
          "schema_version": 3,
          "solution": false
        },
        "id": "rK7XmPGPIDuW"
      },
      "source": [
        "This dataset consists of the following 25 cells:"
      ]
    },
    {
      "cell_type": "code",
      "metadata": {
        "deletable": false,
        "editable": false,
        "nbgrader": {
          "cell_type": "code",
          "checksum": "495192348356b516ea4518c3f6f6138c",
          "grade": false,
          "grade_id": "cell-f20db49c60e86b31",
          "locked": true,
          "schema_version": 3,
          "solution": false,
          "task": false
        },
        "id": "81aQw96fIDuY",
        "colab": {
          "base_uri": "https://localhost:8080/"
        },
        "outputId": "30c68b24-a867-4f34-e3a6-382ac5225ca2"
      },
      "source": [
        "cells = list(df.columns[3:])\n",
        "sys.stdout.write(\"Cells:\")\n",
        "for idx, cell in enumerate(cells):\n",
        "    if idx % 5 == 0:\n",
        "        sys.stdout.write(\"\\n\")\n",
        "    sys.stdout.write(cell + \" \")"
      ],
      "execution_count": 6,
      "outputs": [
        {
          "output_type": "stream",
          "name": "stdout",
          "text": [
            "Cells:\n",
            "SRR089377 SRR054598 SRR053605 SRR054594 SRR089397 \n",
            "SRR054614 SRR089402 SRR053676 SRR053633 SRR053617 \n",
            "SRR054608 SRR053608 SRR054602 SRR089401 SRR053668 \n",
            "SRR054606 SRR054613 SRR053631 SRR054575 SRR053679 \n",
            "SRR054604 SRR053611 SRR053607 SRR053602 SRR054610 "
          ]
        }
      ]
    },
    {
      "cell_type": "markdown",
      "metadata": {
        "deletable": false,
        "editable": false,
        "nbgrader": {
          "cell_type": "markdown",
          "checksum": "26cd6f24e0a9b9a104ab068677a48a8b",
          "grade": false,
          "grade_id": "cell-dfacc9899ea70515",
          "locked": true,
          "schema_version": 3,
          "solution": false
        },
        "id": "oogHKUnmIDud"
      },
      "source": [
        "The reads of each cell are put in bins. As seen in the command below, there are 5363 bins."
      ]
    },
    {
      "cell_type": "code",
      "metadata": {
        "deletable": false,
        "editable": false,
        "nbgrader": {
          "cell_type": "code",
          "checksum": "60f82ddcc46789aa1d2077dce36657a7",
          "grade": false,
          "grade_id": "cell-6beccab7d5d0023c",
          "locked": true,
          "schema_version": 3,
          "solution": false,
          "task": false
        },
        "id": "C98YruFaIDud",
        "colab": {
          "base_uri": "https://localhost:8080/"
        },
        "outputId": "3705b4f4-c613-4ca7-808c-771819fe5ded"
      },
      "source": [
        "len(df.index)"
      ],
      "execution_count": 7,
      "outputs": [
        {
          "output_type": "execute_result",
          "data": {
            "text/plain": [
              "5363"
            ]
          },
          "metadata": {},
          "execution_count": 7
        }
      ]
    },
    {
      "cell_type": "markdown",
      "metadata": {
        "deletable": false,
        "editable": false,
        "nbgrader": {
          "cell_type": "markdown",
          "checksum": "0b597d7d67b7b973ff0249bc9f3bac2c",
          "grade": false,
          "grade_id": "cell-1c61e7210e0c2cca",
          "locked": true,
          "schema_version": 3,
          "solution": false
        },
        "id": "jQjOBP06IDug"
      },
      "source": [
        "We plot a histogram of the bin sizes as follows, from which we can see that most of the bins have length 500,000."
      ]
    },
    {
      "cell_type": "code",
      "metadata": {
        "deletable": false,
        "editable": false,
        "nbgrader": {
          "cell_type": "code",
          "checksum": "66329a5ca369ddab9688c3c1c7ab3599",
          "grade": false,
          "grade_id": "cell-254efd1582c757e6",
          "locked": true,
          "schema_version": 3,
          "solution": false,
          "task": false
        },
        "id": "VqFJaYlhIDuh",
        "colab": {
          "base_uri": "https://localhost:8080/",
          "height": 303
        },
        "outputId": "51971383-8d97-4b9a-a10f-5f767764ce0c"
      },
      "source": [
        "(df['END'] - df['START'] + 1).hist(bins=1000, xrot=90)\n",
        "plt.xlim((400000, 1000000))"
      ],
      "execution_count": 8,
      "outputs": [
        {
          "output_type": "execute_result",
          "data": {
            "text/plain": [
              "(400000.0, 1000000.0)"
            ]
          },
          "metadata": {},
          "execution_count": 8
        },
        {
          "output_type": "display_data",
          "data": {
            "image/png": "[encoded data removed]",
            "text/plain": [
              "<Figure size 432x288 with 1 Axes>"
            ]
          },
          "metadata": {
            "needs_background": "light"
          }
        }
      ]
    },
    {
      "cell_type": "markdown",
      "metadata": {
        "deletable": false,
        "editable": false,
        "nbgrader": {
          "cell_type": "markdown",
          "checksum": "a5f5a2bee6d0696b496ce149cb2639db",
          "grade": false,
          "grade_id": "cell-e8ef1d61e8c352f5",
          "locked": true,
          "schema_version": 3,
          "solution": false,
          "task": false
        },
        "id": "8GvB_2qRIDuk"
      },
      "source": [
        "### _Q1a:_ What is the minimum, median and maximum bin size? [4 points]\n",
        "\n",
        "Set the values of `minimum`, `median`, and `maximum` according to the minimum, median and maximum bin size."
      ]
    },
    {
      "cell_type": "code",
      "metadata": {
        "deletable": false,
        "nbgrader": {
          "cell_type": "code",
          "checksum": "412b67d2ffde24b943746d70ae026f58",
          "grade": false,
          "grade_id": "cell-7d58b7e4632c049c",
          "locked": false,
          "schema_version": 3,
          "solution": true
        },
        "id": "90sub2C9IDul",
        "colab": {
          "base_uri": "https://localhost:8080/"
        },
        "outputId": "4ed7096c-c0a9-4735-da67-cbbab1f7cb54"
      },
      "source": [
        "minimum, median, maximum = None, None, None\n",
        "# YOUR CODE HERE\n",
        "minimum = df.min()\n",
        "median = df.median()\n",
        "maximum = df.max()\n",
        "#print(minimum, median, maximum)"
      ],
      "execution_count": 12,
      "outputs": [
        {
          "output_type": "stream",
          "name": "stdout",
          "text": [
            "CHR            chr1\n",
            "START             1\n",
            "END          528412\n",
            "SRR089377         0\n",
            "SRR054598         0\n",
            "SRR053605         0\n",
            "SRR054594         0\n",
            "SRR089397         0\n",
            "SRR054614         0\n",
            "SRR089402         1\n",
            "SRR053676         0\n",
            "SRR053633         0\n",
            "SRR053617         1\n",
            "SRR054608         1\n",
            "SRR053608         1\n",
            "SRR054602         0\n",
            "SRR089401         1\n",
            "SRR053668         0\n",
            "SRR054606         1\n",
            "SRR054613         2\n",
            "SRR053631         1\n",
            "SRR054575         1\n",
            "SRR053679         0\n",
            "SRR054604         0\n",
            "SRR053611         1\n",
            "SRR053607         0\n",
            "SRR053602         0\n",
            "SRR054610         2\n",
            "dtype: object START        71863013.0\n",
            "END          72405144.0\n",
            "SRR089377        2038.0\n",
            "SRR054598         368.0\n",
            "SRR053605         803.0\n",
            "SRR054594         274.0\n",
            "SRR089397        1834.0\n",
            "SRR054614        1988.0\n",
            "SRR089402        2251.0\n",
            "SRR053676         425.0\n",
            "SRR053633        1898.0\n",
            "SRR053617        1099.0\n",
            "SRR054608        1416.0\n",
            "SRR053608         697.0\n",
            "SRR054602        1249.0\n",
            "SRR089401        1962.0\n",
            "SRR053668         966.0\n",
            "SRR054606         915.0\n",
            "SRR054613        1561.0\n",
            "SRR053631        1446.0\n",
            "SRR054575        1178.0\n",
            "SRR053679         443.0\n",
            "SRR054604         495.0\n",
            "SRR053611        1041.0\n",
            "SRR053607         586.0\n",
            "SRR053602         820.0\n",
            "SRR054610        1788.0\n",
            "dtype: float64 CHR               chrY\n",
            "START        248429822\n",
            "END          249250621\n",
            "SRR089377        11311\n",
            "SRR054598         1817\n",
            "SRR053605         2839\n",
            "SRR054594         1402\n",
            "SRR089397         9871\n",
            "SRR054614        10186\n",
            "SRR089402        13337\n",
            "SRR053676         1633\n",
            "SRR053633         7699\n",
            "SRR053617         4535\n",
            "SRR054608         7042\n",
            "SRR053608         2602\n",
            "SRR054602         6275\n",
            "SRR089401        11751\n",
            "SRR053668         4593\n",
            "SRR054606         4468\n",
            "SRR054613         7346\n",
            "SRR053631         5639\n",
            "SRR054575         4901\n",
            "SRR053679         2267\n",
            "SRR054604         6087\n",
            "SRR053611         4198\n",
            "SRR053607         2220\n",
            "SRR053602         2984\n",
            "SRR054610         8756\n",
            "dtype: object\n"
          ]
        }
      ]
    },
    {
      "cell_type": "code",
      "metadata": {
        "deletable": false,
        "editable": false,
        "nbgrader": {
          "cell_type": "code",
          "checksum": "b7ee75ef798c4ec59fa7d9cbe145723e",
          "grade": true,
          "grade_id": "cell-a5056e2bbb8922b4",
          "locked": true,
          "points": 1,
          "schema_version": 3,
          "solution": false
        },
        "id": "BhZW3FT-IDuo"
      },
      "source": [
        "# HIDDEN TEST CELL DO NOT MODIFY\n"
      ],
      "execution_count": 9,
      "outputs": []
    },
    {
      "cell_type": "code",
      "metadata": {
        "deletable": false,
        "editable": false,
        "nbgrader": {
          "cell_type": "code",
          "checksum": "dfd4d159482c50af5c79373057138ec5",
          "grade": true,
          "grade_id": "cell-f0971c277ea58840",
          "locked": true,
          "points": 2,
          "schema_version": 3,
          "solution": false,
          "task": false
        },
        "id": "FgiVeXIaIDur"
      },
      "source": [
        "# HIDDEN TEST CELL DO NOT MODIFY\n"
      ],
      "execution_count": 10,
      "outputs": []
    },
    {
      "cell_type": "code",
      "metadata": {
        "deletable": false,
        "editable": false,
        "nbgrader": {
          "cell_type": "code",
          "checksum": "caa9422fb0820132627f471ba5c0fac4",
          "grade": true,
          "grade_id": "cell-3aca3a1dc79e3a1d",
          "locked": true,
          "points": 1,
          "schema_version": 3,
          "solution": false,
          "task": false
        },
        "id": "DrOWBXL0IDut"
      },
      "source": [
        "# HIDDEN TEST CELL DO NOT MODIFY\n"
      ],
      "execution_count": 11,
      "outputs": []
    },
    {
      "cell_type": "markdown",
      "metadata": {
        "deletable": false,
        "editable": false,
        "nbgrader": {
          "cell_type": "markdown",
          "checksum": "7de04b564c4d80f82b9fac3989a074e0",
          "grade": false,
          "grade_id": "cell-0ca3a17c2c3592e5",
          "locked": true,
          "schema_version": 3,
          "solution": false
        },
        "id": "arYT7cQkIDuv"
      },
      "source": [
        "We retain bins with lengths between 450,000 and 500,000 using the following command."
      ]
    },
    {
      "cell_type": "code",
      "metadata": {
        "deletable": false,
        "editable": false,
        "nbgrader": {
          "cell_type": "code",
          "checksum": "a237c77ee3dc75e89584287c6aac39df",
          "grade": false,
          "grade_id": "cell-d176fddd1f1a8c54",
          "locked": true,
          "schema_version": 3,
          "solution": false,
          "task": false
        },
        "id": "CF4GUC89IDuw"
      },
      "source": [
        "df = df[(450000 <= (df['END'] - df['START'] + 1)) & ((df['END'] - df['START'] + 1) <= 550000)]"
      ],
      "execution_count": 13,
      "outputs": []
    },
    {
      "cell_type": "markdown",
      "metadata": {
        "deletable": false,
        "editable": false,
        "nbgrader": {
          "cell_type": "markdown",
          "checksum": "b5be2330befc928561756baad47e9c18",
          "grade": false,
          "grade_id": "cell-0e887ca1bf968ebd",
          "locked": true,
          "schema_version": 3,
          "solution": false
        },
        "id": "AVOymh0DIDuz"
      },
      "source": [
        "### _Q1b:_ The column `CHR` contains the chromosome label. Do these cells originate from a male or female patient? [4 points]\n",
        "\n",
        "Write code here to print unique list of values in `'CHR'` column, this should give you the information you need.\n",
        "\n",
        "Set the value of `is_female` to `True` or `False` based on the answer to this question."
      ]
    },
    {
      "cell_type": "code",
      "metadata": {
        "deletable": false,
        "nbgrader": {
          "cell_type": "code",
          "checksum": "5f24003a497d70d14a1eb0affb066b66",
          "grade": false,
          "grade_id": "cell-7bff9888a2dc3bf1",
          "locked": false,
          "schema_version": 3,
          "solution": true
        },
        "id": "KlBsy4-LIDuz"
      },
      "source": [
        "is_female = None\n",
        "# YOUR CODE HERE\n",
        "is_female = np.where(df['CHR']!= 'chr1', True, False)"
      ],
      "execution_count": 15,
      "outputs": []
    },
    {
      "cell_type": "code",
      "metadata": {
        "deletable": false,
        "editable": false,
        "nbgrader": {
          "cell_type": "code",
          "checksum": "99d2c6009f44ee76aaedb8cb863b0101",
          "grade": true,
          "grade_id": "cell-b3ad08b102e3c47a",
          "locked": true,
          "points": 4,
          "schema_version": 3,
          "solution": false
        },
        "id": "TckqKTimIDu2"
      },
      "source": [
        "# HIDDEN TEST CELL DO NOT MODIFY\n"
      ],
      "execution_count": null,
      "outputs": []
    },
    {
      "cell_type": "markdown",
      "metadata": {
        "deletable": false,
        "editable": false,
        "nbgrader": {
          "cell_type": "markdown",
          "checksum": "b84c54b27a104fd6fade6fb676429fe9",
          "grade": false,
          "grade_id": "cell-684d69601d664373",
          "locked": true,
          "schema_version": 3,
          "solution": false
        },
        "id": "YJjqQlyRIDu5"
      },
      "source": [
        "Next, we remove the sex chromosomes such that each bin in a normal cell has copy number 2.\n",
        "\n",
        "### _Q1c:_ How many bins occur on autosomal chromosomes? [4 points]\n",
        "\n",
        "Insert code to generate a list of chromosome labels corresponding to autosomes, e.g. `['chr1', 'chr2', ...]`.\n",
        "\n",
        "The value of `autosomal_bins` is set to the number of bins that are in this list."
      ]
    },
    {
      "cell_type": "code",
      "metadata": {
        "deletable": false,
        "nbgrader": {
          "cell_type": "code",
          "checksum": "42e5636d0467be12716d1061aeb9cabd",
          "grade": false,
          "grade_id": "cell-516597b515acb748",
          "locked": false,
          "schema_version": 3,
          "solution": true
        },
        "id": "cnSuZvRFIDu6",
        "colab": {
          "base_uri": "https://localhost:8080/"
        },
        "outputId": "bb1451ab-eb9b-4364-a7a6-4d0d5d5beae4"
      },
      "source": [
        "# Make a list of autosomes\n",
        "autosomes = None\n",
        "\n",
        "# YOUR CODE HERE\n",
        "autosomes = df['CHR'].unique()\n",
        "\n",
        "autosomal_bins = len(df[df['CHR'].isin(autosomes)])"
      ],
      "execution_count": 18,
      "outputs": [
        {
          "output_type": "execute_result",
          "data": {
            "text/plain": [
              "4949"
            ]
          },
          "metadata": {},
          "execution_count": 18
        }
      ]
    },
    {
      "cell_type": "code",
      "metadata": {
        "deletable": false,
        "editable": false,
        "nbgrader": {
          "cell_type": "code",
          "checksum": "803fb941ee024f7057cf3ae9fbde27c1",
          "grade": true,
          "grade_id": "cell-6f2ee50659f662b6",
          "locked": true,
          "points": 4,
          "schema_version": 3,
          "solution": false
        },
        "id": "x2PlZzDIIDu8"
      },
      "source": [
        "# HIDDEN TEST CELL DO NOT MODIFY\n"
      ],
      "execution_count": null,
      "outputs": []
    },
    {
      "cell_type": "code",
      "metadata": {
        "deletable": false,
        "editable": false,
        "nbgrader": {
          "cell_type": "code",
          "checksum": "892366fdf5c31cd84da98da8b7d0faa2",
          "grade": false,
          "grade_id": "cell-132d39e32301a7fa",
          "locked": true,
          "schema_version": 3,
          "solution": false,
          "task": false
        },
        "id": "2b_ONadcIDu-"
      },
      "source": [
        "# Now retain only autosomes\n",
        "df_auto = df[df['CHR'].isin(autosomes)]"
      ],
      "execution_count": 21,
      "outputs": []
    },
    {
      "cell_type": "markdown",
      "metadata": {
        "deletable": false,
        "editable": false,
        "nbgrader": {
          "cell_type": "markdown",
          "checksum": "afb487c00bdd70acba356af388270407",
          "grade": false,
          "grade_id": "cell-e308d2857e62417a",
          "locked": true,
          "schema_version": 3,
          "solution": false
        },
        "id": "6QAR-QCJIDvI"
      },
      "source": [
        "Due to variablity in library preparation, there are differences in the total number of reads per cell. We construct a new dataframe with the total number of reads, and plot a histogram as follows."
      ]
    },
    {
      "cell_type": "code",
      "metadata": {
        "deletable": false,
        "editable": false,
        "nbgrader": {
          "cell_type": "code",
          "checksum": "a76381aec41450eb6c817db8fc5bc6a1",
          "grade": false,
          "grade_id": "cell-477d442601168592",
          "locked": true,
          "schema_version": 3,
          "solution": false,
          "task": false
        },
        "id": "r0IhjytWIDvI",
        "colab": {
          "base_uri": "https://localhost:8080/",
          "height": 334
        },
        "outputId": "37bcde82-69d5-47af-f7cf-ed984f3e5e49"
      },
      "source": [
        "df_total_reads = pd.DataFrame.from_records([(cell, int(df_auto[cell].sum())) for cell in cells], columns=['cell', 'total'])\n",
        "df_total_reads.hist(column=\"total\", bins=15, xrot=90)"
      ],
      "execution_count": 22,
      "outputs": [
        {
          "output_type": "execute_result",
          "data": {
            "text/plain": [
              "array([[<matplotlib.axes._subplots.AxesSubplot object at 0x7faa7aa92690>]],\n",
              "      dtype=object)"
            ]
          },
          "metadata": {},
          "execution_count": 22
        },
        {
          "output_type": "display_data",
          "data": {
            "image/png": "[encoded data removed]",
            "text/plain": [
              "<Figure size 432x288 with 1 Axes>"
            ]
          },
          "metadata": {
            "needs_background": "light"
          }
        }
      ]
    },
    {
      "cell_type": "markdown",
      "metadata": {
        "deletable": false,
        "editable": false,
        "nbgrader": {
          "cell_type": "markdown",
          "checksum": "91cb789e5cc03ca358a79aae18f2bb90",
          "grade": false,
          "grade_id": "cell-c63992e4daa1ddb2",
          "locked": true,
          "schema_version": 3,
          "solution": false
        },
        "id": "AwHwhAtxIDvL"
      },
      "source": [
        "### _Q1d:_ Based on the above plot, we decide to exclude the six cells with a total read count of less than 3,000,000 reads. Which six cells are excluded? [4 points]\n",
        "\n",
        "You are given the code for the cells that we include.\n",
        "\n",
        "Set `df_removed_cells` to a DataFrame corresponding to the excluded cells, i.e. those with total read count of less than 3,000,000 reads. Note the type of `df_removed_cells` is not the same as that of `cells_to_keep`, which is a list. Rather, `df_removed_cells` is a DataFrame with two columns `'cell'` representing the name of the cell and `'total'` corresponding with the total read count of that cell.\n",
        "\n",
        "Specifically, it should be the case that:\n",
        "    `type(df_removed_cells) == type(df_total_reads)`"
      ]
    },
    {
      "cell_type": "code",
      "metadata": {
        "deletable": false,
        "nbgrader": {
          "cell_type": "code",
          "checksum": "913a880e52990401b0baee45c5ffa256",
          "grade": false,
          "grade_id": "cell-1974e0acfdc65d8c",
          "locked": false,
          "schema_version": 3,
          "solution": true
        },
        "id": "rKmZ1BDpIDvL"
      },
      "source": [
        "# insert code to filter down to cells with less 3,000,000 reads\n",
        "\n",
        "cells_to_keep = list(df_total_reads[df_total_reads['total'] >= 3000000]['cell'])\n",
        "df_removed_cells = None\n",
        "\n",
        "# YOUR CODE HERE\n",
        "df_removed_cells = list(df_total_reads[df_total_reads['total'] < 3000000]['cell'])"
      ],
      "execution_count": 25,
      "outputs": []
    },
    {
      "cell_type": "code",
      "metadata": {
        "deletable": false,
        "editable": false,
        "nbgrader": {
          "cell_type": "code",
          "checksum": "d59f2e145a07a8245c4b4d124f8d900e",
          "grade": true,
          "grade_id": "cell-91ccd74c4eca5d3b",
          "locked": true,
          "points": 4,
          "schema_version": 3,
          "solution": false
        },
        "id": "AwXGXMOaIDvO"
      },
      "source": [
        "# HIDDEN TEST CELL DO NOT MODIFY\n"
      ],
      "execution_count": null,
      "outputs": []
    },
    {
      "cell_type": "code",
      "metadata": {
        "deletable": false,
        "editable": false,
        "nbgrader": {
          "cell_type": "code",
          "checksum": "883514d38ac50a529d0b6b1853efd91b",
          "grade": false,
          "grade_id": "cell-97036b586eb6a857",
          "locked": true,
          "schema_version": 3,
          "solution": false,
          "task": false
        },
        "id": "VC6jiHYoIDvQ"
      },
      "source": [
        "# we retain only cells with >= 300,000 reads\n",
        "df_auto = df_auto[list(df_auto.columns)[:3] + cells_to_keep]"
      ],
      "execution_count": 26,
      "outputs": []
    },
    {
      "cell_type": "markdown",
      "metadata": {
        "deletable": false,
        "editable": false,
        "nbgrader": {
          "cell_type": "markdown",
          "checksum": "e72ad1b9bd51536f16c1e0ff6bf193d2",
          "grade": false,
          "grade_id": "cell-cca2952d836e4940",
          "locked": true,
          "schema_version": 3,
          "solution": false
        },
        "id": "xnaUTbvUIDvS"
      },
      "source": [
        "### _Q1e:_ Complete the below code fragment to identify the mode of each cell and to subsequently normalize the read counts. [4 points]\n",
        "\n",
        "The key concept is that the majority of bins in a cell are diploid. Since the bins have the same length and under the assumption of uniform genome coverage, we expect the most frequent read count, or the mode, to correspond to the diploid state. We identify the mode by discretizing the read counts for each cell into 20 bins. We then divide the read count for each bin in a cell by the mode.\n",
        "\n",
        "Make sure to discretize first prior to computing mode. The goal is to have 20 distinct values of reads counts per cell, this allows you to obtain the mode more robustly. To do so, for each cell, you must first identify the largest number of reads. Then, you divide the largest number of reads by 20 (use integer division). Then you need to round down your original number of reads to the nearest discretized number of reads (again possible using integer division).\n",
        "\n",
        "Please put the result of dividing the read counts in `df_auto` into `df_filter`."
      ]
    },
    {
      "cell_type": "code",
      "metadata": {
        "deletable": false,
        "nbgrader": {
          "cell_type": "code",
          "checksum": "4d03cb0ae1ab9d0872d88b3d77087594",
          "grade": false,
          "grade_id": "cell-56743cbaae9e0ac7",
          "locked": false,
          "schema_version": 3,
          "solution": true
        },
        "id": "sOTXJ0aWIDvT"
      },
      "source": [
        "nr_bins = 20\n",
        "\n",
        "# Use df2 to discretize read count\n",
        "df2 = df_auto.copy(deep=True)\n",
        "\n",
        "# Use df_filter to normalize\n",
        "df_filter = df_auto.copy(deep=True)\n",
        "\n",
        "for cell in cells_to_keep:\n",
        "    # insert code to discretize read count (e.g. first integer division by bin_size, then multiply by bin_size)\n",
        "    # YOUR CODE HERE\n",
        "    df2[cell] = int(df[cell].max()/20)\n",
        "    \n",
        "df_mode = pd.DataFrame.from_records([(cell, int(df2[cell].mode())) for cell in cells_to_keep], \n",
        "                                    columns=['cell', 'mode'])\n",
        "\n",
        "# insert code to divide each read count in df_filter by the mode of the corresponding cell\n",
        "for cell in cells_to_keep:\n",
        "    # YOUR CODE HERE\n",
        "    df_filter[cell] = df_filter[cell]/df[cell].mode()"
      ],
      "execution_count": 35,
      "outputs": []
    },
    {
      "cell_type": "code",
      "metadata": {
        "deletable": false,
        "editable": false,
        "nbgrader": {
          "cell_type": "code",
          "checksum": "94be31e88be0d05b8f7dda4c97c61702",
          "grade": true,
          "grade_id": "cell-1613620dcf223dc7",
          "locked": true,
          "points": 4,
          "schema_version": 3,
          "solution": false
        },
        "id": "uUV-vPaRIDvV"
      },
      "source": [
        "# HIDDEN TEST CELL DO NOT MODIFY\n"
      ],
      "execution_count": null,
      "outputs": []
    },
    {
      "cell_type": "markdown",
      "metadata": {
        "deletable": false,
        "editable": false,
        "nbgrader": {
          "cell_type": "markdown",
          "checksum": "b3ed5a6d253c663f3533a37a53201c1a",
          "grade": false,
          "grade_id": "cell-5cbad19de94d8915",
          "locked": true,
          "schema_version": 3,
          "solution": false
        },
        "id": "BfyXmEA5IDvY"
      },
      "source": [
        "## Question 2: Viterbi algorithm [50 points]\n",
        "\n",
        "In this question we use the Viterbi algorithm to compute a copy number for each bin. The set $Q$ of hidden states corresponds to integer copy numbers. We consider $Q=\\{0,\\ldots,10\\}$. The set $\\Sigma$ of emitted symbols are normalized read counts. Since this an infinite set, we use a probability distribution function for each integer copy number to define the emission probabilities. Specifically, for copy number $c \\in \\{0,\\ldots,10\\}$ we use a normal distribution with standard deviation $\\sigma = 0.1$ centered around mean $\\mu_c = c / 2$."
      ]
    },
    {
      "cell_type": "code",
      "metadata": {
        "deletable": false,
        "editable": false,
        "nbgrader": {
          "cell_type": "code",
          "checksum": "67ebcfd8b417e309fae58cf32089945d",
          "grade": false,
          "grade_id": "cell-683af039510dcfae",
          "locked": true,
          "schema_version": 3,
          "solution": false,
          "task": false
        },
        "id": "zhHW-Zd5IDvZ"
      },
      "source": [
        "df_norm = pd.read_table(\"data_filtered_test.csv\", sep=\"\\t\", index_col=0)"
      ],
      "execution_count": 36,
      "outputs": []
    },
    {
      "cell_type": "code",
      "metadata": {
        "deletable": false,
        "editable": false,
        "nbgrader": {
          "cell_type": "code",
          "checksum": "2c84816771cc13940d87bcfd5ff64686",
          "grade": false,
          "grade_id": "cell-c9db0177ce3846b6",
          "locked": true,
          "schema_version": 3,
          "solution": false,
          "task": false
        },
        "id": "asKRYgJ0IDvc",
        "colab": {
          "base_uri": "https://localhost:8080/",
          "height": 374
        },
        "outputId": "5c5eb532-ed7d-4277-9369-69a519f7bb8f"
      },
      "source": [
        "def gauss(x, mu, sigma, A):\n",
        "    return A*np.exp(-(x-mu)**2/2/sigma**2)\n",
        "\n",
        "values = [val for sublist in [list(df_norm[cell]) for cell in list(df_norm.columns[3:])] for val in sublist]\n",
        "count, bins, ignored = plt.hist(values, 100, density=True)\n",
        "\n",
        "sigma = 0.1\n",
        "\n",
        "plt.plot(np.array([0,.05,.1,.15,.2]),gauss(np.array([0,.05,.1,.15,.2]), 0, sigma, .01),color='black',lw=3,label='copy number 0')\n",
        "plt.plot(bins,gauss(bins, 0.5, sigma, .25),color='red',lw=3,label='copy number 1')\n",
        "plt.plot(bins,gauss(bins, 1, sigma, 1.3),color='blue',lw=3,label='copy number 2')\n",
        "plt.plot(bins,gauss(bins, 1.5, sigma, .7),color='cyan',lw=3,label='copy number 3')\n",
        "plt.plot(bins,gauss(bins, 2, sigma, .25),color='orange',lw=3,label='copy number 4')\n",
        "plt.plot(bins,gauss(bins, 2.5, sigma, .1),color='purple',lw=3,label='copy number 5')\n",
        "plt.plot(bins,gauss(bins, 3, sigma, .05),color='pink',lw=3,label='copy number 6')\n",
        "plt.plot(bins,gauss(bins, 3.5, sigma, .05),color='gray',lw=3,label='copy number 7')\n",
        "plt.plot(bins,gauss(bins, 4, sigma, .05),color='yellow',lw=3,label='copy number 8')\n",
        "plt.plot(bins,gauss(bins, 4.5, sigma, .05),color='pink',lw=3,label='copy number 9')\n",
        "plt.plot(bins,gauss(bins, 5, sigma, .05),color='black',lw=3,label='copy number 10')\n",
        "\n",
        "plt.legend()\n",
        "plt.gcf().set_size_inches(10, 6)"
      ],
      "execution_count": 37,
      "outputs": [
        {
          "output_type": "display_data",
          "data": {
            "image/png": "[encoded data removed]",
            "text/plain": [
              "<Figure size 720x432 with 1 Axes>"
            ]
          },
          "metadata": {
            "needs_background": "light"
          }
        }
      ]
    },
    {
      "cell_type": "code",
      "metadata": {
        "deletable": false,
        "editable": false,
        "nbgrader": {
          "cell_type": "code",
          "checksum": "c2971cef339613ccef7fab4c0824d487",
          "grade": false,
          "grade_id": "cell-95d36d4df2786782",
          "locked": true,
          "schema_version": 3,
          "solution": false,
          "task": false
        },
        "id": "CjqyZkKVIDve"
      },
      "source": [
        "max_copy_number = 10\n",
        "\n",
        "def emissionLogProb(copy_number, norm_count):\n",
        "    sigma = 0.1\n",
        "    mu = copy_number / 2.\n",
        "\n",
        "    # Compute Pr(|X_c - norm_count| <= 0.01 | c)  \n",
        "    low = norm.cdf(norm_count - 0.01, mu, sigma)\n",
        "    up = norm.cdf(norm_count + 0.01, mu, sigma)\n",
        "    \n",
        "    # prevent probability of 0\n",
        "    prob = max(up - low, 0.0001)\n",
        "    \n",
        "    return np.log(prob)\n",
        "\n",
        "def transitionLogProb(current_copy_number, next_copy_number):\n",
        "    stay_prob = 0.99999\n",
        "    if current_copy_number == next_copy_number:\n",
        "        return np.log(stay_prob)\n",
        "    elif 0 <= next_copy_number <= max_copy_number:\n",
        "        return np.log((1 - stay_prob) / max_copy_number)\n",
        "    else:\n",
        "        return np.log(0)\n",
        "\n",
        "def initialLogProb(copy_number):\n",
        "    if 0 <= copy_number <= max_copy_number:\n",
        "        return np.log(1./11)\n",
        "    else:\n",
        "        return np.log(0)"
      ],
      "execution_count": 38,
      "outputs": []
    },
    {
      "cell_type": "markdown",
      "metadata": {
        "deletable": false,
        "editable": false,
        "nbgrader": {
          "cell_type": "markdown",
          "checksum": "e97e2a251f18a4a099d0cdd3a4dd7949",
          "grade": false,
          "grade_id": "cell-9a367e80685d6cac",
          "locked": true,
          "schema_version": 3,
          "solution": false
        },
        "id": "34xRb2uZIDvh"
      },
      "source": [
        "### _Q2a:_ Compute the joint log probability of each cell having copy number 2 in all bins. [10 points]\n",
        "\n",
        "_Hint:_ Make use of the functions `emissionLogProb`, `initialLogProb` and `transitionLogProb` to set the values in the dictionary `joint_log_prob`. "
      ]
    },
    {
      "cell_type": "code",
      "metadata": {
        "deletable": false,
        "nbgrader": {
          "cell_type": "code",
          "checksum": "05d0a673cd896be45976e0f86cc07c23",
          "grade": false,
          "grade_id": "cell-f1697d6f25d4f893",
          "locked": false,
          "schema_version": 3,
          "solution": true
        },
        "id": "r10TmMIXIDvh"
      },
      "source": [
        "joint_log_prob = {k:0.0 for k in list(df_norm.columns[3:])}\n",
        "for cell in list(df_norm.columns[3:]):\n",
        "    log_prob = 0\n",
        "    for idx, norm_count in df_norm[cell].iteritems():\n",
        "        # Hint: idx == df_norm.index[0] is the initial item.\n",
        "        # YOUR CODE HERE\n",
        "        log_prob += emissionLogProb(2,idx)\n",
        "    joint_log_prob[cell] = log_prob"
      ],
      "execution_count": 46,
      "outputs": []
    },
    {
      "cell_type": "code",
      "metadata": {
        "deletable": false,
        "editable": false,
        "nbgrader": {
          "cell_type": "code",
          "checksum": "b19c05391fd4499d5b989df62e0ac549",
          "grade": true,
          "grade_id": "cell-75d9e21bf13a32fe",
          "locked": true,
          "points": 10,
          "schema_version": 3,
          "solution": false
        },
        "id": "k8YRH68QIDvj"
      },
      "source": [
        "# HIDDEN TEST CELL DO NOT MODIFY\n"
      ],
      "execution_count": null,
      "outputs": []
    },
    {
      "cell_type": "markdown",
      "metadata": {
        "deletable": false,
        "editable": false,
        "nbgrader": {
          "cell_type": "markdown",
          "checksum": "b4f61d9b72210c6a991abf3ec0fa83d2",
          "grade": false,
          "grade_id": "cell-e9b35b3b4d45ea3f",
          "locked": true,
          "schema_version": 3,
          "solution": false
        },
        "id": "EqVMT8hnIDvn"
      },
      "source": [
        "### _Q2b:_ Determine the maximum joint log probability of each cell using the Viterbi algorithm. [20 points]\n",
        "\n",
        "Complete the function `viterbi`, making use of the functions `emissionLogProb`, `initialLogProb` and `transitionLogProb`.\n",
        "\n",
        "Then complete the `max_joint_prob` function. The values in the `max_joint_probability` dictionary are filled in after you complete these two functions. This dictionary is autograded."
      ]
    },
    {
      "cell_type": "code",
      "metadata": {
        "deletable": false,
        "nbgrader": {
          "cell_type": "code",
          "checksum": "cd704d152b688095856e1ce29a40f9df",
          "grade": false,
          "grade_id": "cell-478608b539138cda",
          "locked": false,
          "schema_version": 3,
          "solution": true
        },
        "id": "1HXFE2D-IDvn"
      },
      "source": [
        "def viterbi(df_norm, cell):\n",
        "    # Positions\n",
        "    bins = sorted(list(df_norm.index))\n",
        "\n",
        "    # Set of states (copy numbers)\n",
        "    Q = range(max_copy_number+1)\n",
        "    \n",
        "    # Initialization v[copy_number][bin] = 0\n",
        "    v = [ { bin : 0 for bin in bins } for c in range(max_copy_number + 1) ]\n",
        "    \n",
        "    for idx, bin in enumerate(bins):\n",
        "        norm_count = float(df_norm.loc[bin][cell])\n",
        "        \n",
        "        # YOUR CODE HERE\n",
        "        #raise NotImplementedError()\n",
        "        \n",
        "    return v\n",
        "\n",
        "def max_joint_prob(df_norm, v):\n",
        "    # Positions\n",
        "    bins = sorted(list(df_norm.index))\n",
        "    \n",
        "    # Set of states (copy numbers)\n",
        "    Q = range(max_copy_number+1)\n",
        "    last_bin = bins[-1]\n",
        "    max_joint_probability = None\n",
        "    \n",
        "    # YOUR CODE HERE\n",
        "    #raise NotImplementedError()\n",
        "    \n",
        "    return max_joint_probability\n",
        "\n",
        "max_joint_probability = {}\n",
        "V = {}\n",
        "for cell in list(df_norm.columns[3:]):\n",
        "    V[cell] = viterbi(df_norm, cell)\n",
        "    max_joint_probability[cell] = max_joint_prob(df_norm, V[cell])"
      ],
      "execution_count": null,
      "outputs": []
    },
    {
      "cell_type": "code",
      "metadata": {
        "deletable": false,
        "editable": false,
        "nbgrader": {
          "cell_type": "code",
          "checksum": "3f8eda26112c1f7e4edf4c2a49ff8bca",
          "grade": true,
          "grade_id": "cell-06dfbc946483f3ad",
          "locked": true,
          "points": 20,
          "schema_version": 3,
          "solution": false
        },
        "id": "cGlGoFbbIDvp"
      },
      "source": [
        "# HIDDEN TEST CELL DO NOT MODIFY\n"
      ],
      "execution_count": null,
      "outputs": []
    },
    {
      "cell_type": "markdown",
      "metadata": {
        "deletable": false,
        "editable": false,
        "nbgrader": {
          "cell_type": "markdown",
          "checksum": "54c9a377e123e0be299a9e8589e042f0",
          "grade": false,
          "grade_id": "cell-232563feab72fc2a",
          "locked": true,
          "schema_version": 3,
          "solution": false
        },
        "id": "0e4N0vjIIDvs"
      },
      "source": [
        "### _Q2c:_ Compute the most likely copy number profile for each cell. [10 points]\n",
        "\n",
        "_Hint:_ Hint perform a backtrace or extend the above `viterbi` function to maintain backpointers."
      ]
    },
    {
      "cell_type": "code",
      "metadata": {
        "deletable": false,
        "nbgrader": {
          "cell_type": "code",
          "checksum": "ca3c8fa4894e8162b84534a0f53d6590",
          "grade": false,
          "grade_id": "cell-40a33c28fe2359da",
          "locked": false,
          "schema_version": 3,
          "solution": true
        },
        "id": "sTaONWBgIDvs"
      },
      "source": [
        "def viterbi_bt(df_norm, cell):\n",
        "    # Positions\n",
        "    bins = sorted(list(df_norm.index))\n",
        "\n",
        "    # Set of states (copy numbers)\n",
        "    Q = range(max_copy_number+1)\n",
        "    \n",
        "    # Initialization v[copy_number][bin] = 0\n",
        "    v = [ { bin : 0 for bin in bins } for c in range(max_copy_number + 1) ]\n",
        "    bt = [ { bin : None for bin in bins } for c in range(max_copy_number + 1) ]\n",
        "    \n",
        "    for idx, bin in enumerate(bins):\n",
        "        norm_count = float(df_norm.loc[bin][cell])\n",
        "        \n",
        "        # YOUR CODE HERE\n",
        "        #raise NotImplementedError()\n",
        "    return v, bt\n",
        "\n",
        "bins = sorted(list(df_norm.index))\n",
        "Q = range(max_copy_number+1)\n",
        "\n",
        "V = {}\n",
        "BT = {}\n",
        "C = {}\n",
        "max_joint_probability = {}\n",
        "for cell in list(df_norm.columns[3:]):\n",
        "    V[cell], BT[cell] = viterbi_bt(df_norm, cell)\n",
        "    C[cell] = {}\n",
        "    \n",
        "    max_prob = max_joint_prob(df_norm, V[cell])\n",
        "    final_c = None\n",
        "    final_bin = bins[-1]\n",
        "    for c in Q:\n",
        "        if V[cell][c][final_bin] == max_prob:\n",
        "            final_c = c\n",
        "    \n",
        "    C[cell][final_bin] = final_c\n",
        "    \n",
        "    for idx in range(len(bins)-2, -1, -1):\n",
        "        bin = bins[idx]\n",
        "        next_bin = bins[idx + 1]\n",
        "        next_bin_c = C[cell][next_bin]\n",
        "        C[cell][bin] = BT[cell][next_bin_c][next_bin]\n",
        "    \n",
        "    max_joint_probability[cell] = max_prob\n",
        "    print(cell, \"--\", \"max prob:\", max_prob)"
      ],
      "execution_count": null,
      "outputs": []
    },
    {
      "cell_type": "code",
      "metadata": {
        "deletable": false,
        "editable": false,
        "nbgrader": {
          "cell_type": "code",
          "checksum": "181649430036f3fe7b0795b4b5374d6a",
          "grade": true,
          "grade_id": "cell-7859fa8cbc9388ae",
          "locked": true,
          "points": 10,
          "schema_version": 3,
          "solution": false
        },
        "id": "0N4DhjUcIDvu"
      },
      "source": [
        "# HIDDEN TEST CELL DO NOT MODIFY\n"
      ],
      "execution_count": null,
      "outputs": []
    },
    {
      "cell_type": "markdown",
      "metadata": {
        "deletable": false,
        "editable": false,
        "nbgrader": {
          "cell_type": "markdown",
          "checksum": "c1f499e2601eaa8d88e81aa0712ffaf8",
          "grade": false,
          "grade_id": "cell-ec8d2fb58e767681",
          "locked": true,
          "schema_version": 3,
          "solution": false
        },
        "id": "RQE5TVEgIDvw"
      },
      "source": [
        "### _Q2d:_ Which cells are normal cells (i.e. have copy number 2 for each bin)? [10 points]\n",
        "\n",
        "Use `visualizeCopyNumbers(C, bins)` to set the value of `num_normal_cells`.\n"
      ]
    },
    {
      "cell_type": "code",
      "metadata": {
        "deletable": false,
        "editable": false,
        "nbgrader": {
          "cell_type": "code",
          "checksum": "c08fb924099bf8ddae1efbf2775bb83f",
          "grade": false,
          "grade_id": "cell-6b5684ccb8f1b11f",
          "locked": true,
          "schema_version": 3,
          "solution": false,
          "task": false
        },
        "id": "NgPxah3_IDvx"
      },
      "source": [
        "bins = sorted(list(df_norm.index))"
      ],
      "execution_count": null,
      "outputs": []
    },
    {
      "cell_type": "code",
      "metadata": {
        "deletable": false,
        "editable": false,
        "nbgrader": {
          "cell_type": "code",
          "checksum": "974a248d3baf2512a4567268cbdda9e0",
          "grade": false,
          "grade_id": "cell-20568ed0cba18f86",
          "locked": true,
          "schema_version": 3,
          "solution": false,
          "task": false
        },
        "id": "b78etAJvIDv0"
      },
      "source": [
        "def visualizeCopyNumbers(C, bins):\n",
        "    nrRows = 5\n",
        "    nrCols = 4\n",
        "    for idx, cell in enumerate(C):\n",
        "        ax = plt.subplot(nrRows, nrCols, idx+1)\n",
        "        plt.step(list(range(len(bins))), list(C[cell].values()))\n",
        "        ax.set_title(cell)\n",
        "        ax.set_ylim((0, 10))\n",
        "        ax.set_xlabel(\"bin\")\n",
        "        ax.set_ylabel(\"copy number\")\n",
        "    plt.gcf().set_size_inches(30, 20)\n",
        "    plt.tight_layout()\n",
        "    plt.savefig(\"viterbi.pdf\")"
      ],
      "execution_count": null,
      "outputs": []
    },
    {
      "cell_type": "code",
      "metadata": {
        "deletable": false,
        "nbgrader": {
          "cell_type": "code",
          "checksum": "0d7719ab8766252924aeeb1f74ad0390",
          "grade": false,
          "grade_id": "cell-f65ea183d8224acd",
          "locked": false,
          "schema_version": 3,
          "solution": true
        },
        "id": "3Z9TbWUKIDv2"
      },
      "source": [
        "visualizeCopyNumbers(C, bins)\n",
        "num_normal_cells = None\n",
        "# YOUR CODE HERE\n",
        "#raise NotImplementedError()"
      ],
      "execution_count": null,
      "outputs": []
    },
    {
      "cell_type": "code",
      "metadata": {
        "deletable": false,
        "editable": false,
        "nbgrader": {
          "cell_type": "code",
          "checksum": "31505827d6189ab9611b74d4879e254e",
          "grade": true,
          "grade_id": "cell-2bdab7225adff86e",
          "locked": true,
          "points": 10,
          "schema_version": 3,
          "solution": false
        },
        "id": "RM8_GxfOIDv3"
      },
      "source": [
        "# HIDDEN TEST CELL DO NOT MODIFY\n"
      ],
      "execution_count": null,
      "outputs": []
    },
    {
      "cell_type": "markdown",
      "metadata": {
        "deletable": false,
        "editable": false,
        "nbgrader": {
          "cell_type": "markdown",
          "checksum": "e48ca532013dee62f54bad23c59e6da6",
          "grade": false,
          "grade_id": "cell-913bdcae7eca0465",
          "locked": true,
          "schema_version": 3,
          "solution": false,
          "task": false
        },
        "id": "IndEiLV9IDv5"
      },
      "source": [
        "### _Q2e -- Bonus:_ Extend the plotting function to delineate chromosomes using vertical lines.  [5 points]\n",
        "\n",
        "- Do not forget to update x-axis labels to show chromosomes.\n",
        "- The output of 2e should be similar to 2d except with vertical delineations. \n",
        "- Generate the plot in the cell below."
      ]
    },
    {
      "cell_type": "code",
      "metadata": {
        "deletable": false,
        "nbgrader": {
          "cell_type": "code",
          "checksum": "05e92b85b569a1ed20611a87f84b73c5",
          "grade": true,
          "grade_id": "cell-e9a5580a4614f090",
          "locked": false,
          "points": 5,
          "schema_version": 3,
          "solution": true,
          "task": false
        },
        "id": "D88654r-IDv6"
      },
      "source": [
        "# YOUR CODE HERE\n",
        "#raise NotImplementedError()"
      ],
      "execution_count": null,
      "outputs": []
    },
    {
      "cell_type": "markdown",
      "metadata": {
        "deletable": false,
        "editable": false,
        "nbgrader": {
          "cell_type": "markdown",
          "checksum": "a31e983b4dc9fb3d3513b1470d838a01",
          "grade": false,
          "grade_id": "cell-1d4bde58b11fb3a7",
          "locked": true,
          "schema_version": 3,
          "solution": false
        },
        "id": "4fCxvCLFIDv9"
      },
      "source": [
        "## Question 3: Forward algorithm [10 points]"
      ]
    },
    {
      "cell_type": "markdown",
      "metadata": {
        "deletable": false,
        "editable": false,
        "nbgrader": {
          "cell_type": "markdown",
          "checksum": "b8c340a2b95d12ecf7e72e6cbeacbff2",
          "grade": false,
          "grade_id": "cell-8d1c5993b2ddcc25",
          "locked": true,
          "schema_version": 3,
          "solution": false
        },
        "id": "94Uv2rk_IDv9"
      },
      "source": [
        "### _Q3a:_ Compute the marginal log probability of the observations using the forward algorithm. [10 points]\n",
        "\n",
        "Complete the `forward` and `marginal_log_prob` functions defined below.\n",
        "\n",
        "Be aware that recurrence of the forward algorithm includes a summation, but we are operating in log space.\n",
        "\n",
        "You may find `logsumexp` in scipy useful, and you can find more details [here](https://docs.scipy.org/doc/scipy/reference/generated/scipy.special.logsumexp.html)."
      ]
    },
    {
      "cell_type": "code",
      "metadata": {
        "deletable": false,
        "nbgrader": {
          "cell_type": "code",
          "checksum": "973bd65fe9a5e62b15268379386558b1",
          "grade": false,
          "grade_id": "cell-7a5dca46b483072b",
          "locked": false,
          "schema_version": 3,
          "solution": true
        },
        "id": "wZffEuiFIDv-"
      },
      "source": [
        "def forward(df_norm, cell):\n",
        "    # Positions\n",
        "    bins = sorted(list(df_norm.index))\n",
        "\n",
        "    # Set of states (copy numbers)\n",
        "    Q = range(max_copy_number+1)\n",
        "    \n",
        "    # Initialization f[copy_number][bin] = 0\n",
        "    f = [ { bin : 0 for bin in bins } for c in range(max_copy_number + 1) ]\n",
        "    \n",
        "    for idx, bin in enumerate(bins):\n",
        "        norm_count = float(df_norm.loc[bin][cell])\n",
        "        \n",
        "        # YOUR CODE HERE\n",
        "        #raise NotImplementedError()\n",
        "    return f\n",
        "\n",
        "def marginal_log_prob(df_norm, f):\n",
        "    # Positions\n",
        "    bins = sorted(list(df_norm.index))\n",
        "    \n",
        "    # Set of states (copy numbers)\n",
        "    Q = range(max_copy_number+1)\n",
        "    last_bin = bins[-1]\n",
        "    \n",
        "    marginal_log_probability = None\n",
        "    # YOUR CODE HERE\n",
        "    #raise NotImplementedError()\n",
        "    return marginal_log_probability\n",
        "\n",
        "F = {}\n",
        "marginal_log_probability = {}\n",
        "for cell in list(df_norm.columns[3:]):\n",
        "    F[cell] = forward(df_norm, cell)\n",
        "    marginal_log_probability[cell] = marginal_log_prob(df_norm, F[cell])\n",
        "    print(cell, \"--\", \"marginal log prob:\", marginal_log_probability[cell])"
      ],
      "execution_count": null,
      "outputs": []
    },
    {
      "cell_type": "code",
      "metadata": {
        "deletable": false,
        "editable": false,
        "nbgrader": {
          "cell_type": "code",
          "checksum": "57624bc3ecbfd23c8997afd55c1fa545",
          "grade": true,
          "grade_id": "cell-31477431087522eb",
          "locked": true,
          "points": 10,
          "schema_version": 3,
          "solution": false
        },
        "id": "w_gD0tzbIDwC"
      },
      "source": [
        "# HIDDEN TEST CELL DO NOT MODIFY\n"
      ],
      "execution_count": null,
      "outputs": []
    },
    {
      "cell_type": "markdown",
      "metadata": {
        "deletable": false,
        "editable": false,
        "nbgrader": {
          "cell_type": "markdown",
          "checksum": "9520ddcaa4bddd28dff56cd9ad3c7df3",
          "grade": false,
          "grade_id": "cell-98b026ccfca9fc63",
          "locked": true,
          "schema_version": 3,
          "solution": false
        },
        "id": "UVkgPyEfIDwE"
      },
      "source": [
        "## Question 4: Hierarchical clustering [20 points]\n",
        "The Python package `scipy` implements hierarchical clustering. We will use this method to perform single linkage cluster with the Manhattan (also known as cityblock) distance metric."
      ]
    },
    {
      "cell_type": "code",
      "metadata": {
        "deletable": false,
        "editable": false,
        "nbgrader": {
          "cell_type": "code",
          "checksum": "3fe18c526b10f23c3529cdb1ae7abc2a",
          "grade": false,
          "grade_id": "cell-3af488ebe9ff0958",
          "locked": true,
          "schema_version": 3,
          "solution": false,
          "task": false
        },
        "id": "mLP6w6WfIDwF"
      },
      "source": [
        "C_labels = list(C.keys())\n",
        "C_values = [list(C[cell].values()) for cell in C_labels]"
      ],
      "execution_count": null,
      "outputs": []
    },
    {
      "cell_type": "code",
      "metadata": {
        "deletable": false,
        "editable": false,
        "nbgrader": {
          "cell_type": "code",
          "checksum": "23158c6ac973b9db0db59ca8d0b71a3b",
          "grade": false,
          "grade_id": "cell-0ea48922364855e6",
          "locked": true,
          "schema_version": 3,
          "solution": false,
          "task": false
        },
        "id": "E3IrpY-tIDwI"
      },
      "source": [
        "Z = hierarchy.linkage(C_values, 'single', 'cityblock')\n",
        "plt.figure()\n",
        "dn = hierarchy.dendrogram(Z, labels=C_labels, leaf_rotation=90)\n",
        "plt.show()"
      ],
      "execution_count": null,
      "outputs": []
    },
    {
      "cell_type": "markdown",
      "metadata": {
        "deletable": false,
        "editable": false,
        "nbgrader": {
          "cell_type": "markdown",
          "checksum": "ad1ea6307a22cef47a2534c85cf6dbdd",
          "grade": false,
          "grade_id": "cell-ccfa47e29fa3b684",
          "locked": true,
          "schema_version": 3,
          "solution": false
        },
        "id": "9sIWx5Y8IDwL"
      },
      "source": [
        "The goal of this question is to reimplement this algorithm. We start by computing the initial distance matrix."
      ]
    },
    {
      "cell_type": "markdown",
      "metadata": {
        "deletable": false,
        "editable": false,
        "nbgrader": {
          "cell_type": "markdown",
          "checksum": "fa22e8d1f4a2d56cca5e3801da4dd568",
          "grade": false,
          "grade_id": "cell-b7689f64962dad43",
          "locked": true,
          "schema_version": 3,
          "solution": false
        },
        "id": "8JXvAKxGIDwN"
      },
      "source": [
        "### _Q4a:_ Compute the initial distance matrix using Manhattan distance. [10 points]"
      ]
    },
    {
      "cell_type": "code",
      "metadata": {
        "deletable": false,
        "nbgrader": {
          "cell_type": "code",
          "checksum": "fb29165fff40849ef9cbb60b18e32523",
          "grade": false,
          "grade_id": "cell-e3cb8f1d27042853",
          "locked": false,
          "schema_version": 3,
          "solution": true
        },
        "id": "PH0_U99jIDwN"
      },
      "source": [
        "def manhattan(C, cell_1, cell_2, bins):\n",
        "    value = 0\n",
        "    # YOUR CODE HERE\n",
        "    #raise NotImplementedError()\n",
        "    return value\n",
        "\n",
        "bins = sorted(list(df_norm.index))\n",
        "dist = {}\n",
        "for cell_1 in C.keys():\n",
        "    dist[cell_1] = {}\n",
        "    for cell_2 in C.keys():\n",
        "        dist[cell_1][cell_2] = manhattan(C, cell_1, cell_2, bins)"
      ],
      "execution_count": null,
      "outputs": []
    },
    {
      "cell_type": "code",
      "metadata": {
        "deletable": false,
        "editable": false,
        "nbgrader": {
          "cell_type": "code",
          "checksum": "e61c52b8e8be7a403c8ff754cc2e0b29",
          "grade": true,
          "grade_id": "cell-aae15e89b1e70075",
          "locked": true,
          "points": 10,
          "schema_version": 3,
          "solution": false
        },
        "id": "VDtvqbKqIDwP"
      },
      "source": [
        "# HIDDEN TEST CELL DO NOT MODIFY\n"
      ],
      "execution_count": null,
      "outputs": []
    },
    {
      "cell_type": "markdown",
      "metadata": {
        "deletable": false,
        "editable": false,
        "nbgrader": {
          "cell_type": "markdown",
          "checksum": "b6dee3c07921a63940537d990aa1ee54",
          "grade": false,
          "grade_id": "cell-e7c686827b79d8b6",
          "locked": true,
          "schema_version": 3,
          "solution": false
        },
        "id": "ejw4TrrTIDwR"
      },
      "source": [
        "### _Q4b:_ Implement single linkage clustering. [10 points]\n",
        "_Hint:_ The documentation for the required output format is described here: https://docs.scipy.org/doc/scipy/reference/generated/scipy.cluster.hierarchy.linkage.html#scipy.cluster.hierarchy.linkage"
      ]
    },
    {
      "cell_type": "code",
      "metadata": {
        "deletable": false,
        "nbgrader": {
          "cell_type": "code",
          "checksum": "d43530fcec33a63beb6dc4c1344581b5",
          "grade": false,
          "grade_id": "cell-7dfa23c76226a9b7",
          "locked": false,
          "schema_version": 3,
          "solution": true
        },
        "id": "2411fNS8IDwS"
      },
      "source": [
        "def cluster(distances):\n",
        "    distances = copy.deepcopy(distances)\n",
        "    clusters = set(distances.keys())\n",
        "    n = len(clusters)\n",
        "    cluster2idx = { cell : idx for idx, cell in enumerate(clusters) }\n",
        "    idx2cluster = [ cell for cell in clusters ]\n",
        "    Z = np.empty((0, 4), float)\n",
        "    membership = [ set([cluster2idx[cell]]) for cell in clusters ]\n",
        "    while len(clusters) > 1:\n",
        "        # TODO: identify pair (c1, c2) with minimum distance dist\n",
        "        dist, c1, c2 = None, None, None\n",
        "        # YOUR CODE HERE\n",
        "        raise NotImplementedError()\n",
        "        idx_c1 = cluster2idx[c1]\n",
        "        idx_c2 = cluster2idx[c2]\n",
        "        new_cluster = str(n + len(Z))\n",
        "        new_cluster_idx = len(idx2cluster)\n",
        "\n",
        "        membership.append( membership[idx_c1] | membership[idx_c2])\n",
        "        Z = np.append(Z, \n",
        "                      np.array([[cluster2idx[c1], cluster2idx[c2], dist, len(membership[new_cluster_idx])]]), \n",
        "                      axis=0)\n",
        "        \n",
        "        # YOUR CODE HERE\n",
        "        #raise NotImplementedError()\n",
        "        clusters.add(new_cluster)\n",
        "        cluster2idx[new_cluster] = len(idx2cluster)\n",
        "        idx2cluster.append(new_cluster)\n",
        "        \n",
        "        clusters.remove(c1)\n",
        "        clusters.remove(c2)\n",
        "        \n",
        "    return Z, idx2cluster[:n]"
      ],
      "execution_count": null,
      "outputs": []
    },
    {
      "cell_type": "code",
      "metadata": {
        "deletable": false,
        "editable": false,
        "nbgrader": {
          "cell_type": "code",
          "checksum": "ff12c4ec104324344b1b88f37d4df279",
          "grade": false,
          "grade_id": "cell-6e1235222754d1b4",
          "locked": true,
          "schema_version": 3,
          "solution": false,
          "task": false
        },
        "id": "P9VRcP_YIDwT"
      },
      "source": [
        "Z, labels = cluster(dist)\n",
        "plt.figure()\n",
        "dn = hierarchy.dendrogram(Z, labels=labels, leaf_rotation=90)\n",
        "plt.show()"
      ],
      "execution_count": null,
      "outputs": []
    },
    {
      "cell_type": "code",
      "metadata": {
        "deletable": false,
        "editable": false,
        "nbgrader": {
          "cell_type": "code",
          "checksum": "c8c9b90051df1eac00e1f3092ee6b37c",
          "grade": true,
          "grade_id": "cell-06a690d5ee6553a1",
          "locked": true,
          "points": 10,
          "schema_version": 3,
          "solution": false
        },
        "id": "gDGyVgrsIDwX"
      },
      "source": [
        "# HIDDEN TEST CELL DO NOT MODIFY\n"
      ],
      "execution_count": null,
      "outputs": []
    },
    {
      "cell_type": "markdown",
      "metadata": {
        "deletable": false,
        "editable": false,
        "nbgrader": {
          "cell_type": "markdown",
          "checksum": "d3369ee0a3e01b51cf8a44710e1e28de",
          "grade": false,
          "grade_id": "cell-e734ee6d98d8c2c0",
          "locked": true,
          "schema_version": 3,
          "solution": false
        },
        "id": "aFE3qVBYIDwa"
      },
      "source": [
        "### _Q4c :_ Implement complete linkage clustering. [5 points]\n",
        "_Hint:_ The documentation for the required output format is described here: https://docs.scipy.org/doc/scipy/reference/generated/scipy.cluster.hierarchy.linkage.html#scipy.cluster.hierarchy.linkage. Your plot should be identical to the below scipy plot."
      ]
    },
    {
      "cell_type": "code",
      "metadata": {
        "deletable": false,
        "editable": false,
        "nbgrader": {
          "cell_type": "code",
          "checksum": "e4d59caa594cc5d5a79d607c5e794bd8",
          "grade": false,
          "grade_id": "cell-6253239283173e79",
          "locked": true,
          "schema_version": 3,
          "solution": false,
          "task": false
        },
        "id": "KPvml0aPIDwa"
      },
      "source": [
        "Z = hierarchy.linkage(C_values, 'complete', 'cityblock')\n",
        "plt.figure()\n",
        "dn = hierarchy.dendrogram(Z, labels=C_labels, leaf_rotation=90)\n",
        "plt.show()"
      ],
      "execution_count": null,
      "outputs": []
    },
    {
      "cell_type": "code",
      "metadata": {
        "deletable": false,
        "nbgrader": {
          "cell_type": "code",
          "checksum": "5f8fd0dfcbcc480243decaa987609f2d",
          "grade": false,
          "grade_id": "cell-f2caed613c8bbb03",
          "locked": false,
          "schema_version": 3,
          "solution": true
        },
        "id": "rP9cltKtIDwi"
      },
      "source": [
        "def complete_cluster(distances):\n",
        "    distances = copy.deepcopy(distances)\n",
        "    clusters = set(distances.keys())\n",
        "    n = len(clusters)\n",
        "    cluster2idx = { cell : idx for idx, cell in enumerate(clusters) }\n",
        "    idx2cluster = [ cell for cell in clusters ]\n",
        "    Z = np.empty((0, 4), float)\n",
        "    membership = [ set([cluster2idx[cell]]) for cell in clusters ]\n",
        "    while len(clusters) > 1:\n",
        "        # TODO: identify pair (c1, c2) with minimum distance dist\n",
        "        dist, c1, c2 = None, None, None\n",
        "        # YOUR CODE HERE\n",
        "        #raise NotImplementedError()\n",
        "        idx_c1 = cluster2idx[c1]\n",
        "        idx_c2 = cluster2idx[c2]\n",
        "        new_cluster = str(n + len(Z))\n",
        "        new_cluster_idx = len(idx2cluster)\n",
        "\n",
        "        membership.append( membership[idx_c1] | membership[idx_c2])\n",
        "        Z = np.append(Z, \n",
        "                      np.array([[cluster2idx[c1], cluster2idx[c2], dist, len(membership[new_cluster_idx])]]), \n",
        "                      axis=0)\n",
        "        \n",
        "        # YOUR CODE HERE\n",
        "        #raise NotImplementedError()\n",
        "        clusters.add(new_cluster)\n",
        "        cluster2idx[new_cluster] = len(idx2cluster)\n",
        "        idx2cluster.append(new_cluster)\n",
        "        \n",
        "        clusters.remove(c1)\n",
        "        clusters.remove(c2)\n",
        "        \n",
        "    return Z, idx2cluster[:n]"
      ],
      "execution_count": null,
      "outputs": []
    },
    {
      "cell_type": "code",
      "metadata": {
        "deletable": false,
        "editable": false,
        "nbgrader": {
          "cell_type": "code",
          "checksum": "3b1c4e75cb6d6ca990eb5284bf2f2524",
          "grade": false,
          "grade_id": "cell-ff819db32ccb9184",
          "locked": true,
          "schema_version": 3,
          "solution": false,
          "task": false
        },
        "id": "OzF-J-VfIDwn"
      },
      "source": [
        "Z, labels = complete_cluster(dist)\n",
        "plt.figure()\n",
        "dn = hierarchy.dendrogram(Z, labels=labels, leaf_rotation=90)\n",
        "plt.show()"
      ],
      "execution_count": null,
      "outputs": []
    },
    {
      "cell_type": "code",
      "metadata": {
        "deletable": false,
        "editable": false,
        "nbgrader": {
          "cell_type": "code",
          "checksum": "32048e3a75bd51e9510463c80f7bb26d",
          "grade": true,
          "grade_id": "cell-3957c6116920bc33",
          "locked": true,
          "points": 5,
          "schema_version": 3,
          "solution": false
        },
        "id": "8l36EhVfIDwp"
      },
      "source": [
        "# HIDDEN TEST CELL DO NOT MODIFY\n"
      ],
      "execution_count": null,
      "outputs": []
    }
  ]
}